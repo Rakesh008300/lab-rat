{
 "cells": [
  {
   "cell_type": "code",
   "execution_count": 1,
   "id": "9305509d",
   "metadata": {},
   "outputs": [],
   "source": [
    "import torch\n",
    "import os"
   ]
  },
  {
   "cell_type": "code",
   "execution_count": null,
   "id": "afd22fa2-5044-4d91-b9af-137a505c45a8",
   "metadata": {},
   "outputs": [
    {
     "name": "stdout",
     "output_type": "stream",
     "text": [
      "GPU is available with 1 devices:\n",
      "  - Device 0: NVIDIA GeForce RTX 3050 Laptop GPU with 4095 MB memory\n",
      "\n",
      "tensor([[0.7434, 0.0439, 0.1771],\n",
      "        [0.7643, 0.1173, 0.3513],\n",
      "        [0.5753, 0.5335, 0.9065],\n",
      "        [0.0934, 0.3966, 0.3899]])\n"
     ]
    }
   ],
   "source": [
    "\n",
    "#commit changes 1525\n",
    "def check_gpu_availability():\n",
    "  \"\"\"Checks for GPU availability and provides detailed information.\n",
    "\n",
    "  Returns:\n",
    "    A string indicating GPU availability status and details.\n",
    "  \"\"\"\n",
    "\n",
    "  if torch.cuda.is_available():\n",
    "    num_gpus = torch.cuda.device_count()\n",
    "    gpu_names = [torch.cuda.get_device_name(i) for i in range(num_gpus)]\n",
    "    gpu_memory = [torch.cuda.get_device_properties(i).total_memory for i in range(num_gpus)]\n",
    "\n",
    "    gpu_info = f\"GPU is available with {num_gpus} devices:\\n\"\n",
    "    for i in range(num_gpus):\n",
    "      gpu_info += f\"  - Device {i}: {gpu_names[i]} with {gpu_memory[i] // (1024 * 1024)} MB memory\\n\"\n",
    "  else:\n",
    "    gpu_info = \"GPU is not available.\"\n",
    "\n",
    "  return gpu_info\n",
    "\n",
    "if __name__ == \"__main__\":\n",
    "  print(check_gpu_availability())\n",
    "\n",
    "import torch\n",
    "x = torch.rand(4,3)\n",
    "print(x)"
   ]
  }
 ],
 "metadata": {
  "kernelspec": {
   "display_name": "Python 3",
   "language": "python",
   "name": "python3"
  },
  "language_info": {
   "codemirror_mode": {
    "name": "ipython",
    "version": 3
   },
   "file_extension": ".py",
   "mimetype": "text/x-python",
   "name": "python",
   "nbconvert_exporter": "python",
   "pygments_lexer": "ipython3",
   "version": "3.9.0"
  }
 },
 "nbformat": 4,
 "nbformat_minor": 5
}
